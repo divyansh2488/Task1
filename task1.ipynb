{
 "cells": [
  {
   "cell_type": "code",
   "execution_count": 8,
   "id": "289bed91",
   "metadata": {
    "scrolled": true
   },
   "outputs": [
    {
     "name": "stdout",
     "output_type": "stream",
     "text": [
      "Requirement already satisfied: xlrd in d:\\python_ide\\lib\\site-packages (2.0.1)Note: you may need to restart the kernel to use updated packages.\n",
      "\n"
     ]
    }
   ],
   "source": [
    "#installing the xlrd package to read excel files.\n",
    "pip install xlrd"
   ]
  },
  {
   "cell_type": "code",
   "execution_count": 3,
   "id": "9de611b2",
   "metadata": {},
   "outputs": [],
   "source": [
    "import pandas as pd\n",
    "\n",
    "#Creating the first dataframe of sheet=2\n",
    "df_1=pd.read_excel(\"Python Assignment.xlsx\",sheet_name=1,usecols=\"D:G\")\n",
    "df_1=df_1.iloc[9:31]          #only taking the required coloumns and rows \n",
    "df_1.index=range(len(df_1))    #redefining the indexing\n",
    "df_1.columns=df_1.iloc[0]     #setting the first row as a header\n",
    "df_1=df_1.drop(index=0)      \n",
    "\n",
    "\n",
    "#Creating the first dataframe of sheet=3\n",
    "df_2=pd.read_excel(\"Python Assignment.xlsx\",sheet_name=2,usecols=\"C:G\")\n",
    "df_2=df_2.iloc[6:30]                  #only taking the required coloumns and rows \n",
    "df_2.index=range(len(df_2))           #redefining the indexing\n",
    "df_2.columns=df_2.iloc[0]             #setting the first row as a header\n",
    "df_2=df_2.drop(index=0)\n",
    "df_2.columns=[\"S No\",\"Name\",\"User ID\",\"total_statements\",\"total_reasons\"]\n",
    "\n",
    "\n",
    "#Merging the two data frames into one\n",
    "merge_df=pd.merge(left=df_1,right=df_2,on=[\"S No\",\"Name\",\"User ID\"])\n",
    "\n",
    "\n",
    "#Taking part of data frame for team ranking\n",
    "pf_1=merge_df[[\"S No\",\"Team Name\",\"total_statements\",\"total_reasons\"]]\n",
    "pf_2=pf_1[\"Team Name\"]\n",
    "pf_2=pf_2.drop_duplicates(keep=\"first\")\n",
    "t_statements=[]\n",
    "t_reasons=[]\n",
    "for i in pf_2:\n",
    "    t_statements.append(round(pf_1[pf_1.eq(i).any(axis=1)][\"total_statements\"].mean(),ndigits=2))\n",
    "    t_reasons.append(round(pf_1[pf_1.eq(i).any(axis=1)][\"total_reasons\"].mean(),ndigits=2))\n",
    "pf_2.index=range(len(pf_2))\n",
    "pf_3=pd.DataFrame({\"Team_Name\":pf_2,\"Average_Statements\":t_statements,\"Average_Reasons\":t_reasons},index=range(len(pf_2)))\n",
    "pf_3.sort_values(by=[\"Average_Statements\",\"Average_Reasons\"],ascending=False,inplace=True)\n",
    "pf_3.index=range(1,9)\n",
    "pf_3.index.name=\"Rank\"\n",
    "\n",
    "#Taking part of data frame for indivisual ranking\n",
    "merge_df.sort_values(by=[\"total_statements\",\"total_reasons\"],ascending=False,inplace=True)\n",
    "merge_df.index=range(1,22)\n",
    "merge_df.index.name=\"Rank\"\n",
    "rank_df=merge_df[[\"Name\",\"User ID\",\"total_statements\",\"total_reasons\"]]\n",
    "\n",
    "\n",
    "#Using both data frames two create output sheets in a single excel file\n",
    "with pd.ExcelWriter('output.xlsx') as writer:\n",
    "    pf_3.to_excel(writer, sheet_name='Leaderboard Teamwise')\n",
    "    rank_df.to_excel(writer, sheet_name='Leaderboard Individual')"
   ]
  },
  {
   "cell_type": "code",
   "execution_count": null,
   "id": "4e9e405c",
   "metadata": {},
   "outputs": [],
   "source": []
  }
 ],
 "metadata": {
  "kernelspec": {
   "display_name": "Python 3",
   "language": "python",
   "name": "python3"
  },
  "language_info": {
   "codemirror_mode": {
    "name": "ipython",
    "version": 3
   },
   "file_extension": ".py",
   "mimetype": "text/x-python",
   "name": "python",
   "nbconvert_exporter": "python",
   "pygments_lexer": "ipython3",
   "version": "3.8.8"
  }
 },
 "nbformat": 4,
 "nbformat_minor": 5
}
